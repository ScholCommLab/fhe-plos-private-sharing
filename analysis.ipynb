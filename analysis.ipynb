{
 "cells": [
  {
   "cell_type": "markdown",
   "metadata": {},
   "source": [
    "# Analysis notebook for: How much research shared on Facebook is hidden from public view?\n",
    "\n",
    "This notebook produces all results and figures in the article.\n",
    "\n",
    "Figures are plotted to the *figures/* directory.\n",
    "\n",
    "In order to re-produce the plots without interacting with the notebook use `jupyter nbconvert --execute analysis.ipynb`\n",
    "\n",
    "**Outline**\n",
    "\n",
    "1. Coverage\n",
    "    1. Comparison of AES, POS, and TW\n",
    "    2. Facebook coverage in detail\n",
    "    3. Coverage by disciplines\n",
    "        1. Disciplinary breakdown of Facebook methods\n",
    "2. Engagement Counts\n",
    "    1. Comparison of AES, POS, and TW\n",
    "    2. Facebook counts in detail\n",
    "    3. Facebook counts by discipline"
   ]
  },
  {
   "cell_type": "code",
   "execution_count": 1,
   "metadata": {},
   "outputs": [],
   "source": [
    "from pathlib import Path\n",
    "\n",
    "import gspread\n",
    "import matplotlib.pyplot as plt\n",
    "import numpy as np\n",
    "import pandas as pd\n",
    "import seaborn as sns\n",
    "from gspread_dataframe import get_as_dataframe, set_with_dataframe\n",
    "from matplotlib import ticker\n",
    "from matplotlib.colors import ListedColormap\n",
    "from matplotlib_venn import venn2, venn3, venn3_circles\n",
    "from oauth2client.service_account import ServiceAccountCredentials\n",
    "from scipy import stats\n",
    "from scipy.optimize import curve_fit\n",
    "from tqdm.auto import tqdm\n",
    "\n",
    "tqdm.pandas()"
   ]
  },
  {
   "cell_type": "code",
   "execution_count": 2,
   "metadata": {},
   "outputs": [],
   "source": [
    "# Implementation of partial log binning following Milojević (2010)\n",
    "def thresh(bin_size):\n",
    "    x = 1\n",
    "    while True:\n",
    "        diff = np.log10(x+1) - np.log10(x)\n",
    "        if diff < bin_size:\n",
    "            return x +1\n",
    "        x = x + 1\n",
    "\n",
    "def partial_log_binning(data_counts, bin_size=0.1):\n",
    "    n_bins = 1/bin_size\n",
    "    binning_threshold = thresh(bin_size)\n",
    "\n",
    "    log_data = np.log10(data_counts)\n",
    "    log_index = np.log10(log_data.index)\n",
    "\n",
    "    logbins = np.linspace(np.log10(binning_threshold)+0.1,\n",
    "                          np.log10(max(data)),\n",
    "                          ((np.log10(max(data))-np.log10(binning_threshold)+0.1)//0.1)+1)\n",
    "\n",
    "    binned_xs = []\n",
    "    binned_vals = []      \n",
    "    \n",
    "    for i in range(1, binning_threshold+1):      \n",
    "        if i in log_data.index:\n",
    "            binned_vals.append(log_data.loc[i])\n",
    "            binned_xs.append(np.log10(i))\n",
    "    \n",
    "    for b in logbins:       \n",
    "            vals = (b-.05 <= log_index) & (log_index < b+.05)\n",
    "            vs = data_counts[vals]\n",
    "            if len(vs)>0:\n",
    "                n = np.ceil(10**(b+.05) - 10**(b-.05))\n",
    "                if n == 0:\n",
    "                    continue\n",
    "                binned_vals.append(np.log10(vs.sum()/n))\n",
    "                binned_xs.append(b)\n",
    "    return binned_xs, binned_vals  "
   ]
  },
  {
   "cell_type": "markdown",
   "metadata": {},
   "source": [
    "# Configuration"
   ]
  },
  {
   "cell_type": "code",
   "execution_count": 65,
   "metadata": {},
   "outputs": [],
   "source": [
    "plt.rcParams.update({\n",
    "    'font.family':'sans-serif',\n",
    "    'font.size': 16.0,\n",
    "    'text.usetex': False,\n",
    "    'figure.figsize': (11.69,8.27)\n",
    "})\n",
    "\n",
    "# Seaborn styles\n",
    "sns.set_style(\"whitegrid\")\n",
    "\n",
    "# Color palette\n",
    "cm = \"Paired\"\n",
    "cp3 = sns.color_palette(cm, 3)\n",
    "cp10 = sns.color_palette(cm, 10)"
   ]
  },
  {
   "cell_type": "code",
   "execution_count": 4,
   "metadata": {},
   "outputs": [],
   "source": [
    "### Optional ###\n",
    "# Set up GSpread connection to push dataframes to Google Spreadsheets\n",
    "# Instructions can be found at https://gspread.readthedocs.io/en/latest/\n",
    "\n",
    "# scope = ['https://spreadsheets.google.com/feeds',\n",
    "#          'https://www.googleapis.com/auth/drive']\n",
    "\n",
    "# credentials = ServiceAccountCredentials.from_json_keyfile_name('My Project-d9fa71152fe8.json', scope)\n",
    "\n",
    "# gc = gspread.authorize(credentials)\n",
    "# sh =  gc.open(\"PLOS Paper - Tables\")\n",
    "\n",
    "push_to_gspread = False"
   ]
  },
  {
   "cell_type": "markdown",
   "metadata": {},
   "source": [
    "# Load data, preprocessing, dropping years + bad results"
   ]
  },
  {
   "cell_type": "code",
   "execution_count": 5,
   "metadata": {},
   "outputs": [],
   "source": [
    "articles_csv = \"data/articles.csv\"\n",
    "responses_csv = \"data/responses.csv\"\n",
    "\n",
    "figs = Path(\"figures\")"
   ]
  },
  {
   "cell_type": "code",
   "execution_count": 116,
   "metadata": {},
   "outputs": [],
   "source": [
    "articles = pd.read_csv(articles_csv, index_col=\"doi\", parse_dates=['publication_date'])\n",
    "all_responses = pd.read_csv(responses_csv, index_col=\"id\", parse_dates=['received_at', 'og_updated_time', 'publication_date', 'added_on'])\n",
    "\n",
    "# add year and metrics\n",
    "all_responses = all_responses.merge(articles[['year', 'AES', 'AER', 'AEC']], left_on=\"doi\", right_index=True, how=\"left\")"
   ]
  },
  {
   "cell_type": "code",
   "execution_count": 117,
   "metadata": {},
   "outputs": [],
   "source": [
    "# Limit responses to those articles that received some forms of engagement\n",
    "responses = all_responses\n",
    "responses = responses.replace(0, np.nan)\n",
    "responses = responses.dropna(subset=['shares', 'reactions', 'comments'], how=\"all\")"
   ]
  },
  {
   "cell_type": "code",
   "execution_count": 118,
   "metadata": {},
   "outputs": [],
   "source": [
    "all_shares = set(articles['AES'].dropna().index.tolist())\n",
    "all_reactions = set(articles['AER'].dropna().index.tolist())\n",
    "all_comments = set(articles['AEC'].dropna().index.tolist())\n",
    "\n",
    "any_engagement = all_shares.union(all_reactions).union(all_comments)"
   ]
  },
  {
   "cell_type": "code",
   "execution_count": 119,
   "metadata": {},
   "outputs": [],
   "source": [
    "metrics = ['AES', 'AER', 'AEC']"
   ]
  },
  {
   "cell_type": "markdown",
   "metadata": {},
   "source": [
    "## Methods"
   ]
  },
  {
   "cell_type": "code",
   "execution_count": 142,
   "metadata": {},
   "outputs": [
    {
     "data": {
      "text/html": [
       "<div>\n",
       "<style scoped>\n",
       "    .dataframe tbody tr th:only-of-type {\n",
       "        vertical-align: middle;\n",
       "    }\n",
       "\n",
       "    .dataframe tbody tr th {\n",
       "        vertical-align: top;\n",
       "    }\n",
       "\n",
       "    .dataframe thead th {\n",
       "        text-align: right;\n",
       "    }\n",
       "</style>\n",
       "<table border=\"1\" class=\"dataframe\">\n",
       "  <thead>\n",
       "    <tr style=\"text-align: right;\">\n",
       "      <th></th>\n",
       "      <th>Count</th>\n",
       "    </tr>\n",
       "  </thead>\n",
       "  <tbody>\n",
       "    <tr>\n",
       "      <th>Number of articles</th>\n",
       "      <td>61848.0</td>\n",
       "    </tr>\n",
       "    <tr>\n",
       "      <th>Number of URLs</th>\n",
       "      <td>618480.0</td>\n",
       "    </tr>\n",
       "    <tr>\n",
       "      <th>--------</th>\n",
       "      <td>NaN</td>\n",
       "    </tr>\n",
       "    <tr>\n",
       "      <th>Number of successful responses</th>\n",
       "      <td>69948.0</td>\n",
       "    </tr>\n",
       "    <tr>\n",
       "      <th>Number of non-zero responses</th>\n",
       "      <td>32887.0</td>\n",
       "    </tr>\n",
       "    <tr>\n",
       "      <th>Number of zero-responses</th>\n",
       "      <td>37061.0</td>\n",
       "    </tr>\n",
       "    <tr>\n",
       "      <th>---------</th>\n",
       "      <td>NaN</td>\n",
       "    </tr>\n",
       "    <tr>\n",
       "      <th>Number of unique URLs</th>\n",
       "      <td>32887.0</td>\n",
       "    </tr>\n",
       "    <tr>\n",
       "      <th>Number of unique queries</th>\n",
       "      <td>32887.0</td>\n",
       "    </tr>\n",
       "    <tr>\n",
       "      <th>Number of unique OG IDs</th>\n",
       "      <td>22215.0</td>\n",
       "    </tr>\n",
       "    <tr>\n",
       "      <th>Number of unique DOIs</th>\n",
       "      <td>21674.0</td>\n",
       "    </tr>\n",
       "  </tbody>\n",
       "</table>\n",
       "</div>"
      ],
      "text/plain": [
       "                                   Count\n",
       "Number of articles               61848.0\n",
       "Number of URLs                  618480.0\n",
       "--------                             NaN\n",
       "Number of successful responses   69948.0\n",
       "Number of non-zero responses     32887.0\n",
       "Number of zero-responses         37061.0\n",
       "---------                            NaN\n",
       "Number of unique URLs            32887.0\n",
       "Number of unique queries         32887.0\n",
       "Number of unique OG IDs          22215.0\n",
       "Number of unique DOIs            21674.0"
      ]
     },
     "execution_count": 142,
     "metadata": {},
     "output_type": "execute_result"
    }
   ],
   "source": [
    "df = pd.DataFrame(columns=[\"Count\"])\n",
    "df.loc['Number of articles', \"Count\"] = len(articles)\n",
    "df.loc['Number of URLs', \"Count\"] = len(articles) * 10\n",
    "df.loc['--------', \"Count\"] = None\n",
    "df.loc['Number of successful responses', \"Count\"] = len(all_responses)\n",
    "df.loc['Number of non-zero responses', \"Count\"] = len(responses)\n",
    "df.loc['Number of zero-responses', \"Count\"] = len(all_responses) - len(responses)\n",
    "df.loc['---------', \"Count\"] = None\n",
    "df.loc['Number of unique URLs', \"Count\"] = responses.url.nunique()\n",
    "df.loc['Number of unique queries', \"Count\"] = responses.query_id.nunique()\n",
    "df.loc['Number of unique OG IDs', \"Count\"] = responses.og_id.nunique()\n",
    "df.loc['Number of unique DOIs', \"Count\"] = responses.doi.nunique()\n",
    "\n",
    "df"
   ]
  },
  {
   "cell_type": "code",
   "execution_count": 120,
   "metadata": {},
   "outputs": [
    {
     "data": {
      "text/html": [
       "<div>\n",
       "<style scoped>\n",
       "    .dataframe tbody tr th:only-of-type {\n",
       "        vertical-align: middle;\n",
       "    }\n",
       "\n",
       "    .dataframe tbody tr th {\n",
       "        vertical-align: top;\n",
       "    }\n",
       "\n",
       "    .dataframe thead th {\n",
       "        text-align: right;\n",
       "    }\n",
       "</style>\n",
       "<table border=\"1\" class=\"dataframe\">\n",
       "  <thead>\n",
       "    <tr style=\"text-align: right;\">\n",
       "      <th></th>\n",
       "      <th>AES</th>\n",
       "      <th>AER</th>\n",
       "      <th>AEC</th>\n",
       "    </tr>\n",
       "  </thead>\n",
       "  <tbody>\n",
       "    <tr>\n",
       "      <th>count</th>\n",
       "      <td>21415.00</td>\n",
       "      <td>13825.00</td>\n",
       "      <td>10259.00</td>\n",
       "    </tr>\n",
       "    <tr>\n",
       "      <th>mean</th>\n",
       "      <td>8.81</td>\n",
       "      <td>53.54</td>\n",
       "      <td>23.99</td>\n",
       "    </tr>\n",
       "    <tr>\n",
       "      <th>std</th>\n",
       "      <td>136.32</td>\n",
       "      <td>475.45</td>\n",
       "      <td>311.97</td>\n",
       "    </tr>\n",
       "    <tr>\n",
       "      <th>min</th>\n",
       "      <td>1.00</td>\n",
       "      <td>1.00</td>\n",
       "      <td>1.00</td>\n",
       "    </tr>\n",
       "    <tr>\n",
       "      <th>25%</th>\n",
       "      <td>1.00</td>\n",
       "      <td>4.00</td>\n",
       "      <td>2.00</td>\n",
       "    </tr>\n",
       "    <tr>\n",
       "      <th>50%</th>\n",
       "      <td>2.00</td>\n",
       "      <td>16.00</td>\n",
       "      <td>6.00</td>\n",
       "    </tr>\n",
       "    <tr>\n",
       "      <th>75%</th>\n",
       "      <td>4.00</td>\n",
       "      <td>46.00</td>\n",
       "      <td>15.00</td>\n",
       "    </tr>\n",
       "    <tr>\n",
       "      <th>max</th>\n",
       "      <td>12473.00</td>\n",
       "      <td>36030.00</td>\n",
       "      <td>15840.00</td>\n",
       "    </tr>\n",
       "  </tbody>\n",
       "</table>\n",
       "</div>"
      ],
      "text/plain": [
       "            AES       AER       AEC\n",
       "count  21415.00  13825.00  10259.00\n",
       "mean       8.81     53.54     23.99\n",
       "std      136.32    475.45    311.97\n",
       "min        1.00      1.00      1.00\n",
       "25%        1.00      4.00      2.00\n",
       "50%        2.00     16.00      6.00\n",
       "75%        4.00     46.00     15.00\n",
       "max    12473.00  36030.00  15840.00"
      ]
     },
     "execution_count": 120,
     "metadata": {},
     "output_type": "execute_result"
    }
   ],
   "source": [
    "articles[metrics].describe().round(2)"
   ]
  },
  {
   "cell_type": "markdown",
   "metadata": {},
   "source": [
    "## Results"
   ]
  },
  {
   "cell_type": "markdown",
   "metadata": {},
   "source": [
    "### What is the overall coverage of articles?"
   ]
  },
  {
   "cell_type": "code",
   "execution_count": 165,
   "metadata": {},
   "outputs": [
    {
     "data": {
      "text/html": [
       "<div>\n",
       "<style scoped>\n",
       "    .dataframe tbody tr th:only-of-type {\n",
       "        vertical-align: middle;\n",
       "    }\n",
       "\n",
       "    .dataframe tbody tr th {\n",
       "        vertical-align: top;\n",
       "    }\n",
       "\n",
       "    .dataframe thead th {\n",
       "        text-align: right;\n",
       "    }\n",
       "</style>\n",
       "<table border=\"1\" class=\"dataframe\">\n",
       "  <thead>\n",
       "    <tr style=\"text-align: right;\">\n",
       "      <th></th>\n",
       "      <th>n</th>\n",
       "      <th>% (n=61848)</th>\n",
       "      <th>% (n=21674)</th>\n",
       "    </tr>\n",
       "  </thead>\n",
       "  <tbody>\n",
       "    <tr>\n",
       "      <th>AES</th>\n",
       "      <td>21415</td>\n",
       "      <td>34.63</td>\n",
       "      <td>98.81</td>\n",
       "    </tr>\n",
       "    <tr>\n",
       "      <th>AER</th>\n",
       "      <td>13825</td>\n",
       "      <td>22.35</td>\n",
       "      <td>63.79</td>\n",
       "    </tr>\n",
       "    <tr>\n",
       "      <th>AEC</th>\n",
       "      <td>10259</td>\n",
       "      <td>16.59</td>\n",
       "      <td>47.33</td>\n",
       "    </tr>\n",
       "  </tbody>\n",
       "</table>\n",
       "</div>"
      ],
      "text/plain": [
       "         n  % (n=61848)  % (n=21674)\n",
       "AES  21415        34.63        98.81\n",
       "AER  13825        22.35        63.79\n",
       "AEC  10259        16.59        47.33"
      ]
     },
     "execution_count": 165,
     "metadata": {},
     "output_type": "execute_result"
    }
   ],
   "source": [
    "temp = articles[metrics].dropna(how=\"all\")\n",
    "df = articles[metrics].count().to_frame(\"n\")\n",
    "df[\"% (n={})\".format(len(articles))] = df['n'].div(len(articles)/100).round(2)\n",
    "df['% (n={})'.format(len(temp))] = df['n'].div(len(temp)/100).round(2)\n",
    "df"
   ]
  },
  {
   "cell_type": "markdown",
   "metadata": {},
   "source": [
    "#### What does the breakdown of URLs per article look like?"
   ]
  },
  {
   "cell_type": "code",
   "execution_count": 175,
   "metadata": {},
   "outputs": [
    {
     "data": {
      "text/html": [
       "<div>\n",
       "<style scoped>\n",
       "    .dataframe tbody tr th:only-of-type {\n",
       "        vertical-align: middle;\n",
       "    }\n",
       "\n",
       "    .dataframe tbody tr th {\n",
       "        vertical-align: top;\n",
       "    }\n",
       "\n",
       "    .dataframe thead th {\n",
       "        text-align: right;\n",
       "    }\n",
       "</style>\n",
       "<table border=\"1\" class=\"dataframe\">\n",
       "  <thead>\n",
       "    <tr style=\"text-align: right;\">\n",
       "      <th></th>\n",
       "      <th>Articles</th>\n",
       "      <th>Articles [%]</th>\n",
       "    </tr>\n",
       "    <tr>\n",
       "      <th>Number of URLs</th>\n",
       "      <th></th>\n",
       "      <th></th>\n",
       "    </tr>\n",
       "  </thead>\n",
       "  <tbody>\n",
       "    <tr>\n",
       "      <th>1</th>\n",
       "      <td>12344</td>\n",
       "      <td>57.0</td>\n",
       "    </tr>\n",
       "    <tr>\n",
       "      <th>2</th>\n",
       "      <td>7702</td>\n",
       "      <td>35.5</td>\n",
       "    </tr>\n",
       "    <tr>\n",
       "      <th>3</th>\n",
       "      <td>1442</td>\n",
       "      <td>6.7</td>\n",
       "    </tr>\n",
       "    <tr>\n",
       "      <th>4</th>\n",
       "      <td>142</td>\n",
       "      <td>0.7</td>\n",
       "    </tr>\n",
       "    <tr>\n",
       "      <th>5</th>\n",
       "      <td>29</td>\n",
       "      <td>0.1</td>\n",
       "    </tr>\n",
       "    <tr>\n",
       "      <th>6</th>\n",
       "      <td>8</td>\n",
       "      <td>0.0</td>\n",
       "    </tr>\n",
       "    <tr>\n",
       "      <th>7</th>\n",
       "      <td>4</td>\n",
       "      <td>0.0</td>\n",
       "    </tr>\n",
       "    <tr>\n",
       "      <th>8</th>\n",
       "      <td>3</td>\n",
       "      <td>0.0</td>\n",
       "    </tr>\n",
       "  </tbody>\n",
       "</table>\n",
       "</div>"
      ],
      "text/plain": [
       "                Articles  Articles [%]\n",
       "Number of URLs                        \n",
       "1                  12344          57.0\n",
       "2                   7702          35.5\n",
       "3                   1442           6.7\n",
       "4                    142           0.7\n",
       "5                     29           0.1\n",
       "6                      8           0.0\n",
       "7                      4           0.0\n",
       "8                      3           0.0"
      ]
     },
     "execution_count": 175,
     "metadata": {},
     "output_type": "execute_result"
    }
   ],
   "source": [
    "cov_urls_counts = responses[['doi', 'og_id']].groupby(\"doi\").count().og_id.value_counts().reset_index()\n",
    "cov_urls_counts['%'] = 100 * cov_urls_counts.og_id.div(cov_urls_counts.og_id.sum())\n",
    "cov_urls_counts.columns = [\"Number of URLs\", \"Articles\", \"Articles [%]\"]\n",
    "\n",
    "cov_urls_counts = cov_urls_counts.set_index(\"Number of URLs\")\n",
    "\n",
    "if push_to_gspread:\n",
    "    wks = sh.worksheet(\"Coverage - Number of URLs\")\n",
    "    set_with_dataframe(wks, cov_urls_counts.round(1).reset_index())\n",
    "\n",
    "cov_urls_counts.round(1)"
   ]
  },
  {
   "cell_type": "code",
   "execution_count": 176,
   "metadata": {},
   "outputs": [
    {
     "data": {
      "text/html": [
       "<div>\n",
       "<style scoped>\n",
       "    .dataframe tbody tr th:only-of-type {\n",
       "        vertical-align: middle;\n",
       "    }\n",
       "\n",
       "    .dataframe tbody tr th {\n",
       "        vertical-align: top;\n",
       "    }\n",
       "\n",
       "    .dataframe thead th {\n",
       "        text-align: right;\n",
       "    }\n",
       "</style>\n",
       "<table border=\"1\" class=\"dataframe\">\n",
       "  <thead>\n",
       "    <tr style=\"text-align: right;\">\n",
       "      <th></th>\n",
       "      <th>Articles</th>\n",
       "      <th>Articles [%]</th>\n",
       "    </tr>\n",
       "    <tr>\n",
       "      <th>Objects per Article</th>\n",
       "      <th></th>\n",
       "      <th></th>\n",
       "    </tr>\n",
       "  </thead>\n",
       "  <tbody>\n",
       "    <tr>\n",
       "      <th>1</th>\n",
       "      <td>21134</td>\n",
       "      <td>97.5</td>\n",
       "    </tr>\n",
       "    <tr>\n",
       "      <th>2</th>\n",
       "      <td>539</td>\n",
       "      <td>2.5</td>\n",
       "    </tr>\n",
       "    <tr>\n",
       "      <th>3</th>\n",
       "      <td>1</td>\n",
       "      <td>0.0</td>\n",
       "    </tr>\n",
       "  </tbody>\n",
       "</table>\n",
       "</div>"
      ],
      "text/plain": [
       "                     Articles  Articles [%]\n",
       "Objects per Article                        \n",
       "1                       21134          97.5\n",
       "2                         539           2.5\n",
       "3                           1           0.0"
      ]
     },
     "execution_count": 176,
     "metadata": {},
     "output_type": "execute_result"
    }
   ],
   "source": [
    "x = responses[['doi', 'og_id']].groupby(\"doi\").nunique().og_id.value_counts().reset_index()\n",
    "x['%'] = 100*x.og_id.div(x.og_id.sum())\n",
    "x.columns = [\"Objects per Article\", \"Articles\", \"Articles [%]\"]\n",
    "x = x.set_index(\"Objects per Article\")\n",
    "x.round(1)"
   ]
  },
  {
   "cell_type": "code",
   "execution_count": 177,
   "metadata": {},
   "outputs": [
    {
     "data": {
      "text/plain": [
       "504"
      ]
     },
     "execution_count": 177,
     "metadata": {},
     "output_type": "execute_result"
    }
   ],
   "source": [
    "x = responses[['doi', 'og_id']].groupby(\"doi\")[\"og_id\"].nunique()\n",
    "mult_ogids = x[x>1].keys()\n",
    "\n",
    "y = responses[responses.doi.isin(mult_ogids)]\n",
    "z = y[['doi', 'og_id', 'type']].groupby([\"doi\", \"og_id\"])['type'].apply(lambda x: \", \".join(sorted(x))).reset_index()\n",
    "zz = z.groupby(\"doi\")['type'].apply(lambda x: \" -- \".join(sorted(x)))\n",
    "\n",
    "zz.map(lambda x: \"pdf\" in x).sum()"
   ]
  },
  {
   "cell_type": "code",
   "execution_count": 178,
   "metadata": {},
   "outputs": [
    {
     "data": {
      "text/html": [
       "<div>\n",
       "<style scoped>\n",
       "    .dataframe tbody tr th:only-of-type {\n",
       "        vertical-align: middle;\n",
       "    }\n",
       "\n",
       "    .dataframe tbody tr th {\n",
       "        vertical-align: top;\n",
       "    }\n",
       "\n",
       "    .dataframe thead th {\n",
       "        text-align: right;\n",
       "    }\n",
       "</style>\n",
       "<table border=\"1\" class=\"dataframe\">\n",
       "  <thead>\n",
       "    <tr style=\"text-align: right;\">\n",
       "      <th></th>\n",
       "      <th>FB Objects</th>\n",
       "      <th>FB Objects [%]</th>\n",
       "    </tr>\n",
       "    <tr>\n",
       "      <th>URL Type</th>\n",
       "      <th></th>\n",
       "      <th></th>\n",
       "    </tr>\n",
       "  </thead>\n",
       "  <tbody>\n",
       "    <tr>\n",
       "      <th>landing</th>\n",
       "      <td>21515</td>\n",
       "      <td>65.4</td>\n",
       "    </tr>\n",
       "    <tr>\n",
       "      <th>doi_old</th>\n",
       "      <td>4927</td>\n",
       "      <td>15.0</td>\n",
       "    </tr>\n",
       "    <tr>\n",
       "      <th>metrics</th>\n",
       "      <td>4348</td>\n",
       "      <td>13.2</td>\n",
       "    </tr>\n",
       "    <tr>\n",
       "      <th>doi</th>\n",
       "      <td>982</td>\n",
       "      <td>3.0</td>\n",
       "    </tr>\n",
       "    <tr>\n",
       "      <th>pdf</th>\n",
       "      <td>644</td>\n",
       "      <td>2.0</td>\n",
       "    </tr>\n",
       "    <tr>\n",
       "      <th>authors</th>\n",
       "      <td>296</td>\n",
       "      <td>0.9</td>\n",
       "    </tr>\n",
       "    <tr>\n",
       "      <th>related</th>\n",
       "      <td>96</td>\n",
       "      <td>0.3</td>\n",
       "    </tr>\n",
       "    <tr>\n",
       "      <th>comments</th>\n",
       "      <td>76</td>\n",
       "      <td>0.2</td>\n",
       "    </tr>\n",
       "    <tr>\n",
       "      <th>pmid</th>\n",
       "      <td>2</td>\n",
       "      <td>0.0</td>\n",
       "    </tr>\n",
       "    <tr>\n",
       "      <th>pmc</th>\n",
       "      <td>1</td>\n",
       "      <td>0.0</td>\n",
       "    </tr>\n",
       "  </tbody>\n",
       "</table>\n",
       "</div>"
      ],
      "text/plain": [
       "          FB Objects  FB Objects [%]\n",
       "URL Type                            \n",
       "landing        21515            65.4\n",
       "doi_old         4927            15.0\n",
       "metrics         4348            13.2\n",
       "doi              982             3.0\n",
       "pdf              644             2.0\n",
       "authors          296             0.9\n",
       "related           96             0.3\n",
       "comments          76             0.2\n",
       "pmid               2             0.0\n",
       "pmc                1             0.0"
      ]
     },
     "execution_count": 178,
     "metadata": {},
     "output_type": "execute_result"
    }
   ],
   "source": [
    "cov_urls_types = responses.type.value_counts().reset_index()\n",
    "cov_urls_types['%'] = 100*cov_urls_types.type.div(cov_urls_types.type.sum())\n",
    "cov_urls_types.columns = [\"URL Type\", \"FB Objects\", \"FB Objects [%]\"]\n",
    "\n",
    "cov_urls_types = cov_urls_types.set_index(\"URL Type\")\n",
    "\n",
    "if push_to_gspread:\n",
    "    wks = sh.worksheet(\"Coverage - URL Types\")\n",
    "    set_with_dataframe(wks, cov_urls_types.round(1).reset_index())\n",
    "\n",
    "cov_urls_types.round(1)"
   ]
  },
  {
   "cell_type": "code",
   "execution_count": null,
   "metadata": {},
   "outputs": [],
   "source": []
  },
  {
   "cell_type": "code",
   "execution_count": 206,
   "metadata": {},
   "outputs": [
    {
     "data": {
      "text/html": [
       "<div>\n",
       "<style scoped>\n",
       "    .dataframe tbody tr th:only-of-type {\n",
       "        vertical-align: middle;\n",
       "    }\n",
       "\n",
       "    .dataframe tbody tr th {\n",
       "        vertical-align: top;\n",
       "    }\n",
       "\n",
       "    .dataframe thead th {\n",
       "        text-align: right;\n",
       "    }\n",
       "</style>\n",
       "<table border=\"1\" class=\"dataframe\">\n",
       "  <thead>\n",
       "    <tr style=\"text-align: right;\">\n",
       "      <th>year</th>\n",
       "      <th>2015</th>\n",
       "      <th>2016</th>\n",
       "      <th>2017</th>\n",
       "    </tr>\n",
       "    <tr>\n",
       "      <th>type</th>\n",
       "      <th></th>\n",
       "      <th></th>\n",
       "      <th></th>\n",
       "    </tr>\n",
       "  </thead>\n",
       "  <tbody>\n",
       "    <tr>\n",
       "      <th>landing</th>\n",
       "      <td>57.6</td>\n",
       "      <td>68.9</td>\n",
       "      <td>76.5</td>\n",
       "    </tr>\n",
       "    <tr>\n",
       "      <th>doi_old</th>\n",
       "      <td>15.5</td>\n",
       "      <td>19.8</td>\n",
       "      <td>7.5</td>\n",
       "    </tr>\n",
       "    <tr>\n",
       "      <th>doi</th>\n",
       "      <td>1.4</td>\n",
       "      <td>2.1</td>\n",
       "      <td>7.3</td>\n",
       "    </tr>\n",
       "    <tr>\n",
       "      <th>pdf</th>\n",
       "      <td>0.6</td>\n",
       "      <td>1.5</td>\n",
       "      <td>5.4</td>\n",
       "    </tr>\n",
       "    <tr>\n",
       "      <th>authors</th>\n",
       "      <td>0.3</td>\n",
       "      <td>1.2</td>\n",
       "      <td>1.7</td>\n",
       "    </tr>\n",
       "    <tr>\n",
       "      <th>comments</th>\n",
       "      <td>0.1</td>\n",
       "      <td>0.2</td>\n",
       "      <td>0.6</td>\n",
       "    </tr>\n",
       "    <tr>\n",
       "      <th>related</th>\n",
       "      <td>0.1</td>\n",
       "      <td>0.4</td>\n",
       "      <td>0.6</td>\n",
       "    </tr>\n",
       "    <tr>\n",
       "      <th>metrics</th>\n",
       "      <td>24.3</td>\n",
       "      <td>6.0</td>\n",
       "      <td>0.5</td>\n",
       "    </tr>\n",
       "    <tr>\n",
       "      <th>pmc</th>\n",
       "      <td>0.0</td>\n",
       "      <td>NaN</td>\n",
       "      <td>NaN</td>\n",
       "    </tr>\n",
       "    <tr>\n",
       "      <th>pmid</th>\n",
       "      <td>NaN</td>\n",
       "      <td>0.0</td>\n",
       "      <td>NaN</td>\n",
       "    </tr>\n",
       "  </tbody>\n",
       "</table>\n",
       "</div>"
      ],
      "text/plain": [
       "year      2015  2016  2017\n",
       "type                      \n",
       "landing   57.6  68.9  76.5\n",
       "doi_old   15.5  19.8   7.5\n",
       "doi        1.4   2.1   7.3\n",
       "pdf        0.6   1.5   5.4\n",
       "authors    0.3   1.2   1.7\n",
       "comments   0.1   0.2   0.6\n",
       "related    0.1   0.4   0.6\n",
       "metrics   24.3   6.0   0.5\n",
       "pmc        0.0   NaN   NaN\n",
       "pmid       NaN   0.0   NaN"
      ]
     },
     "execution_count": 206,
     "metadata": {},
     "output_type": "execute_result"
    }
   ],
   "source": [
    "df = responses.groupby(['type', 'year']).size().to_frame('size').reset_index()\n",
    "df = df.pivot(columns=\"year\", index=\"type\", values=\"size\")\n",
    "df = df.apply(lambda x: 100*x/x.sum()).sort_values(by=2017, ascending=False)\n",
    "\n",
    "df.round(1)"
   ]
  },
  {
   "cell_type": "code",
   "execution_count": 73,
   "metadata": {},
   "outputs": [
    {
     "data": {
      "image/png": "[encoded data removed]",
      "text/plain": [
       "<Figure size 841.68x595.44 with 1 Axes>"
      ]
     },
     "metadata": {},
     "output_type": "display_data"
    }
   ],
   "source": [
    "df.plot(kind=\"bar\")\n",
    "sns.despine(left=True, right=True, top=True)"
   ]
  },
  {
   "cell_type": "markdown",
   "metadata": {},
   "source": [
    "### Which URLs were used to share articles?"
   ]
  },
  {
   "cell_type": "code",
   "execution_count": null,
   "metadata": {},
   "outputs": [],
   "source": []
  },
  {
   "cell_type": "markdown",
   "metadata": {},
   "source": [
    "#### Did the type of shared URLs change across years?"
   ]
  },
  {
   "cell_type": "code",
   "execution_count": null,
   "metadata": {},
   "outputs": [],
   "source": []
  },
  {
   "cell_type": "markdown",
   "metadata": {},
   "source": [
    "#### Do the types of shared URLs vary across disciplines?"
   ]
  },
  {
   "cell_type": "code",
   "execution_count": null,
   "metadata": {},
   "outputs": [],
   "source": []
  },
  {
   "cell_type": "markdown",
   "metadata": {},
   "source": [
    "### What kind of engagement did the articles receive?"
   ]
  },
  {
   "cell_type": "code",
   "execution_count": null,
   "metadata": {},
   "outputs": [],
   "source": []
  },
  {
   "cell_type": "markdown",
   "metadata": {},
   "source": [
    "#### Coverage of shares, reactions, and comments"
   ]
  },
  {
   "cell_type": "code",
   "execution_count": 21,
   "metadata": {},
   "outputs": [
    {
     "data": {
      "image/png": "[encoded data removed]",
      "text/plain": [
       "<Figure size 841.68x595.44 with 1 Axes>"
      ]
     },
     "metadata": {},
     "output_type": "display_data"
    }
   ],
   "source": [
    "v = venn3(subsets= [all_shares, all_reactions, all_comments],\n",
    "          set_labels=('', '', ''),\n",
    "          subset_label_formatter=lambda x: \"{} ({:.1f}%)\".format(x, 100*x/len(any_engagement)));\n",
    "\n",
    "c=venn3_circles(subsets= [all_shares, all_reactions, all_comments], linewidth=0)\n",
    "c[0].set_lw(.9)\n",
    "c[0].set_ls('-.')\n",
    "\n",
    "v.get_patch_by_id('100').set_color(cp3[0])\n",
    "v.get_patch_by_id('010').set_color(cp3[1])\n",
    "v.get_patch_by_id('001').set_color(cp3[2])\n",
    "\n",
    "v.get_patch_by_id('110').set_color(np.add(cp3[0],cp3[1])/2)\n",
    "v.get_patch_by_id('011').set_color(np.add(cp3[1],cp3[2])/2)\n",
    "v.get_patch_by_id('101').set_color(np.add(cp3[0],cp3[2])/2)\n",
    "\n",
    "v.get_patch_by_id('111').set_color(np.add(np.add(cp3[1],cp3[0]), cp3[2]) / 3)\n",
    "\n",
    "for text in v.set_labels:\n",
    "    text.set_fontsize(12)\n",
    "for text in v.subset_labels:\n",
    "    text.set_fontsize(14)\n",
    "\n",
    "\n",
    "for text in v.set_labels:\n",
    "    text.set_fontsize(10)\n",
    "for text in v.subset_labels:\n",
    "    text.set_fontsize(12)\n",
    "\n",
    "plt.gca().legend(handles=[v.get_patch_by_id('100'), v.get_patch_by_id('010'), v.get_patch_by_id('001')],\n",
    "                 labels=[\"Shares\", \"Reactions\", \"Comments\"], prop={'size': 12});"
   ]
  },
  {
   "cell_type": "code",
   "execution_count": 109,
   "metadata": {},
   "outputs": [
    {
     "data": {
      "text/html": [
       "<div>\n",
       "<style scoped>\n",
       "    .dataframe tbody tr th:only-of-type {\n",
       "        vertical-align: middle;\n",
       "    }\n",
       "\n",
       "    .dataframe tbody tr th {\n",
       "        vertical-align: top;\n",
       "    }\n",
       "\n",
       "    .dataframe thead th {\n",
       "        text-align: right;\n",
       "    }\n",
       "</style>\n",
       "<table border=\"1\" class=\"dataframe\">\n",
       "  <thead>\n",
       "    <tr style=\"text-align: right;\">\n",
       "      <th></th>\n",
       "      <th>pmid</th>\n",
       "      <th>year</th>\n",
       "      <th>AES</th>\n",
       "      <th>POS</th>\n",
       "      <th>TW</th>\n",
       "      <th>AER</th>\n",
       "      <th>AEC</th>\n",
       "    </tr>\n",
       "  </thead>\n",
       "  <tbody>\n",
       "    <tr>\n",
       "      <th>count</th>\n",
       "      <td>2.590000e+02</td>\n",
       "      <td>259.000000</td>\n",
       "      <td>0.0</td>\n",
       "      <td>60.000000</td>\n",
       "      <td>202.000000</td>\n",
       "      <td>252.000000</td>\n",
       "      <td>158.000000</td>\n",
       "    </tr>\n",
       "    <tr>\n",
       "      <th>mean</th>\n",
       "      <td>2.616453e+07</td>\n",
       "      <td>2015.270270</td>\n",
       "      <td>NaN</td>\n",
       "      <td>1.266667</td>\n",
       "      <td>4.707921</td>\n",
       "      <td>23.214286</td>\n",
       "      <td>9.139241</td>\n",
       "    </tr>\n",
       "    <tr>\n",
       "      <th>std</th>\n",
       "      <td>7.057507e+05</td>\n",
       "      <td>0.524889</td>\n",
       "      <td>NaN</td>\n",
       "      <td>0.482461</td>\n",
       "      <td>5.467119</td>\n",
       "      <td>29.256417</td>\n",
       "      <td>9.666719</td>\n",
       "    </tr>\n",
       "    <tr>\n",
       "      <th>min</th>\n",
       "      <td>2.563409e+07</td>\n",
       "      <td>2015.000000</td>\n",
       "      <td>NaN</td>\n",
       "      <td>1.000000</td>\n",
       "      <td>1.000000</td>\n",
       "      <td>1.000000</td>\n",
       "      <td>1.000000</td>\n",
       "    </tr>\n",
       "    <tr>\n",
       "      <th>25%</th>\n",
       "      <td>2.576836e+07</td>\n",
       "      <td>2015.000000</td>\n",
       "      <td>NaN</td>\n",
       "      <td>1.000000</td>\n",
       "      <td>1.000000</td>\n",
       "      <td>4.000000</td>\n",
       "      <td>2.000000</td>\n",
       "    </tr>\n",
       "    <tr>\n",
       "      <th>50%</th>\n",
       "      <td>2.581630e+07</td>\n",
       "      <td>2015.000000</td>\n",
       "      <td>NaN</td>\n",
       "      <td>1.000000</td>\n",
       "      <td>3.000000</td>\n",
       "      <td>12.000000</td>\n",
       "      <td>6.000000</td>\n",
       "    </tr>\n",
       "    <tr>\n",
       "      <th>75%</th>\n",
       "      <td>2.603203e+07</td>\n",
       "      <td>2015.000000</td>\n",
       "      <td>NaN</td>\n",
       "      <td>1.250000</td>\n",
       "      <td>5.000000</td>\n",
       "      <td>30.000000</td>\n",
       "      <td>12.000000</td>\n",
       "    </tr>\n",
       "    <tr>\n",
       "      <th>max</th>\n",
       "      <td>2.874286e+07</td>\n",
       "      <td>2017.000000</td>\n",
       "      <td>NaN</td>\n",
       "      <td>3.000000</td>\n",
       "      <td>34.000000</td>\n",
       "      <td>159.000000</td>\n",
       "      <td>56.000000</td>\n",
       "    </tr>\n",
       "  </tbody>\n",
       "</table>\n",
       "</div>"
      ],
      "text/plain": [
       "               pmid         year  AES        POS          TW         AER  \\\n",
       "count  2.590000e+02   259.000000  0.0  60.000000  202.000000  252.000000   \n",
       "mean   2.616453e+07  2015.270270  NaN   1.266667    4.707921   23.214286   \n",
       "std    7.057507e+05     0.524889  NaN   0.482461    5.467119   29.256417   \n",
       "min    2.563409e+07  2015.000000  NaN   1.000000    1.000000    1.000000   \n",
       "25%    2.576836e+07  2015.000000  NaN   1.000000    1.000000    4.000000   \n",
       "50%    2.581630e+07  2015.000000  NaN   1.000000    3.000000   12.000000   \n",
       "75%    2.603203e+07  2015.000000  NaN   1.250000    5.000000   30.000000   \n",
       "max    2.874286e+07  2017.000000  NaN   3.000000   34.000000  159.000000   \n",
       "\n",
       "              AEC  \n",
       "count  158.000000  \n",
       "mean     9.139241  \n",
       "std      9.666719  \n",
       "min      1.000000  \n",
       "25%      2.000000  \n",
       "50%      6.000000  \n",
       "75%     12.000000  \n",
       "max     56.000000  "
      ]
     },
     "execution_count": 109,
     "metadata": {},
     "output_type": "execute_result"
    }
   ],
   "source": [
    "artics = articles[(articles.AES.isna()) & ((~articles.AER.isna()) | (~articles.AEC.isna()))]\n",
    "artics.describe()"
   ]
  },
  {
   "cell_type": "markdown",
   "metadata": {},
   "source": [
    "#### Do the shared URL types receive different kinds of engagement?"
   ]
  },
  {
   "cell_type": "code",
   "execution_count": null,
   "metadata": {},
   "outputs": [],
   "source": []
  },
  {
   "cell_type": "markdown",
   "metadata": {},
   "source": [
    "### Analysis by groups: Do all articles receive the same types of engagement?"
   ]
  },
  {
   "cell_type": "code",
   "execution_count": null,
   "metadata": {},
   "outputs": [],
   "source": []
  },
  {
   "cell_type": "markdown",
   "metadata": {},
   "source": [
    "#### Correlations by groups"
   ]
  },
  {
   "cell_type": "code",
   "execution_count": null,
   "metadata": {},
   "outputs": [],
   "source": []
  },
  {
   "cell_type": "markdown",
   "metadata": {
    "toc-hr-collapsed": false
   },
   "source": [
    "# Comparison of retrieval methods"
   ]
  },
  {
   "cell_type": "code",
   "execution_count": 25,
   "metadata": {},
   "outputs": [
    {
     "data": {
      "text/plain": [
       "'Removed 17 articles in Arts or Humanities'"
      ]
     },
     "execution_count": 25,
     "metadata": {},
     "output_type": "execute_result"
    }
   ],
   "source": [
    "# Difference between AES and POS counts\n",
    "articles['diff'] = articles['AES'] - articles['POS']\n",
    "\n",
    "# Remove articles in Arts and Humanities\n",
    "base = articles[~articles.discipline.isin([\"Arts\", \"Humanities\"])]\n",
    "\"Removed {} articles in Arts or Humanities\".format(articles[articles.discipline.isin([\"Arts\", \"Humanities\"])].shape[0])"
   ]
  },
  {
   "cell_type": "markdown",
   "metadata": {},
   "source": [
    "### Coverage of Shares, Reactions, and Comments"
   ]
  },
  {
   "cell_type": "code",
   "execution_count": 20,
   "metadata": {},
   "outputs": [
    {
     "name": "stdout",
     "output_type": "stream",
     "text": [
      "21674\n"
     ]
    },
    {
     "data": {
      "text/html": [
       "<div>\n",
       "<style scoped>\n",
       "    .dataframe tbody tr th:only-of-type {\n",
       "        vertical-align: middle;\n",
       "    }\n",
       "\n",
       "    .dataframe tbody tr th {\n",
       "        vertical-align: top;\n",
       "    }\n",
       "\n",
       "    .dataframe thead th {\n",
       "        text-align: right;\n",
       "    }\n",
       "</style>\n",
       "<table border=\"1\" class=\"dataframe\">\n",
       "  <thead>\n",
       "    <tr style=\"text-align: right;\">\n",
       "      <th></th>\n",
       "      <th>pmid</th>\n",
       "      <th>year</th>\n",
       "      <th>AES</th>\n",
       "      <th>POS</th>\n",
       "      <th>TW</th>\n",
       "      <th>AER</th>\n",
       "      <th>AEC</th>\n",
       "    </tr>\n",
       "  </thead>\n",
       "  <tbody>\n",
       "    <tr>\n",
       "      <th>count</th>\n",
       "      <td>6.184300e+04</td>\n",
       "      <td>61848.000000</td>\n",
       "      <td>21415.000000</td>\n",
       "      <td>9623.000000</td>\n",
       "      <td>43064.000000</td>\n",
       "      <td>13825.000000</td>\n",
       "      <td>10259.000000</td>\n",
       "    </tr>\n",
       "    <tr>\n",
       "      <th>mean</th>\n",
       "      <td>2.721320e+07</td>\n",
       "      <td>2015.873642</td>\n",
       "      <td>8.811674</td>\n",
       "      <td>2.301465</td>\n",
       "      <td>8.923718</td>\n",
       "      <td>53.535335</td>\n",
       "      <td>23.989668</td>\n",
       "    </tr>\n",
       "    <tr>\n",
       "      <th>std</th>\n",
       "      <td>1.080284e+06</td>\n",
       "      <td>0.824578</td>\n",
       "      <td>136.323191</td>\n",
       "      <td>4.804324</td>\n",
       "      <td>63.637819</td>\n",
       "      <td>475.446702</td>\n",
       "      <td>311.972031</td>\n",
       "    </tr>\n",
       "    <tr>\n",
       "      <th>min</th>\n",
       "      <td>2.555500e+07</td>\n",
       "      <td>2015.000000</td>\n",
       "      <td>1.000000</td>\n",
       "      <td>1.000000</td>\n",
       "      <td>1.000000</td>\n",
       "      <td>1.000000</td>\n",
       "      <td>1.000000</td>\n",
       "    </tr>\n",
       "    <tr>\n",
       "      <th>25%</th>\n",
       "      <td>2.624747e+07</td>\n",
       "      <td>2015.000000</td>\n",
       "      <td>1.000000</td>\n",
       "      <td>1.000000</td>\n",
       "      <td>1.000000</td>\n",
       "      <td>4.000000</td>\n",
       "      <td>2.000000</td>\n",
       "    </tr>\n",
       "    <tr>\n",
       "      <th>50%</th>\n",
       "      <td>2.701101e+07</td>\n",
       "      <td>2016.000000</td>\n",
       "      <td>2.000000</td>\n",
       "      <td>1.000000</td>\n",
       "      <td>3.000000</td>\n",
       "      <td>16.000000</td>\n",
       "      <td>6.000000</td>\n",
       "    </tr>\n",
       "    <tr>\n",
       "      <th>75%</th>\n",
       "      <td>2.815831e+07</td>\n",
       "      <td>2017.000000</td>\n",
       "      <td>4.000000</td>\n",
       "      <td>2.000000</td>\n",
       "      <td>6.000000</td>\n",
       "      <td>46.000000</td>\n",
       "      <td>15.000000</td>\n",
       "    </tr>\n",
       "    <tr>\n",
       "      <th>max</th>\n",
       "      <td>2.928712e+07</td>\n",
       "      <td>2017.000000</td>\n",
       "      <td>12473.000000</td>\n",
       "      <td>186.000000</td>\n",
       "      <td>8626.000000</td>\n",
       "      <td>36030.000000</td>\n",
       "      <td>15840.000000</td>\n",
       "    </tr>\n",
       "  </tbody>\n",
       "</table>\n",
       "</div>"
      ],
      "text/plain": [
       "               pmid          year           AES          POS            TW  \\\n",
       "count  6.184300e+04  61848.000000  21415.000000  9623.000000  43064.000000   \n",
       "mean   2.721320e+07   2015.873642      8.811674     2.301465      8.923718   \n",
       "std    1.080284e+06      0.824578    136.323191     4.804324     63.637819   \n",
       "min    2.555500e+07   2015.000000      1.000000     1.000000      1.000000   \n",
       "25%    2.624747e+07   2015.000000      1.000000     1.000000      1.000000   \n",
       "50%    2.701101e+07   2016.000000      2.000000     1.000000      3.000000   \n",
       "75%    2.815831e+07   2017.000000      4.000000     2.000000      6.000000   \n",
       "max    2.928712e+07   2017.000000  12473.000000   186.000000   8626.000000   \n",
       "\n",
       "                AER           AEC  \n",
       "count  13825.000000  10259.000000  \n",
       "mean      53.535335     23.989668  \n",
       "std      475.446702    311.972031  \n",
       "min        1.000000      1.000000  \n",
       "25%        4.000000      2.000000  \n",
       "50%       16.000000      6.000000  \n",
       "75%       46.000000     15.000000  \n",
       "max    36030.000000  15840.000000  "
      ]
     },
     "execution_count": 20,
     "metadata": {},
     "output_type": "execute_result"
    }
   ],
   "source": [
    "print(articles[['AES', 'AER', 'AEC']].dropna(how=\"all\").shape[0])\n",
    "articles.describe()"
   ]
  },
  {
   "cell_type": "code",
   "execution_count": 23,
   "metadata": {},
   "outputs": [
    {
     "data": {
      "image/png": "[encoded data removed]",
      "text/plain": [
       "<Figure size 841.68x595.44 with 1 Axes>"
      ]
     },
     "metadata": {},
     "output_type": "display_data"
    }
   ],
   "source": [
    "disc_counts = base.dropna(how=\"any\", subset=['AES', 'AER', 'AEC']).disc.value_counts()\n",
    "\n",
    "x = base.dropna(how=\"any\", subset=['AES', 'AER', 'AEC'])[['disc', 'AES', 'AER', 'AEC']]\n",
    "x['AER/AES'] = x['AER'] / x['AES']\n",
    "x['AEC/AES'] = x['AEC'] / x['AES']\n",
    "x = x.melt(id_vars=\"disc\", value_vars=['AEC/AES', 'AER/AES']).dropna()\n",
    "\n",
    "meds = x.groupby([\"disc\", \"variable\"])['value'].median().reset_index().groupby('disc')['variable', 'value'].apply(lambda x: x.iloc[0,1])\n",
    "x['sort'] = x.disc.map(lambda x: meds[x])\n",
    "\n",
    "x.disc = x.disc.map(lambda x: \"{} ({})\".format(x, disc_counts[x]))\n",
    "x = x.sort_values([\"sort\"])\n",
    "\n",
    "sns.boxenplot(x=\"disc\", y=\"value\", hue=\"variable\", data=x, palette=cm)\n",
    "\n",
    "plt.yscale(\"log\")\n",
    "xmin, xmax = plt.gca().get_xlim()\n",
    "plt.hlines(1, xmin, xmax, zorder=-1, color=\"red\")\n",
    "\n",
    "yticks = [0.1, 1, 2, 5, 10, 100, 1000]\n",
    "plt.yticks(yticks, yticks);\n",
    "\n",
    "plt.xticks(rotation=45, ha=\"right\");\n",
    "plt.xticks(rotation=90)\n",
    "\n",
    "plt.xlabel(\"\")\n",
    "plt.ylabel(\"Ratio\")\n",
    "\n",
    "sns.despine(left=True, right=True, top=True, bottom=True)"
   ]
  },
  {
   "cell_type": "code",
   "execution_count": 24,
   "metadata": {},
   "outputs": [
    {
     "data": {
      "image/png": "[encoded data removed]",
      "text/plain": [
       "<Figure size 841.68x595.44 with 1 Axes>"
      ]
     },
     "metadata": {},
     "output_type": "display_data"
    }
   ],
   "source": [
    "disc_counts = base.disc.value_counts()\n",
    "x = base.groupby(\"disc\")[['AES', 'AER', 'AEC']].count()\n",
    "x = x.apply(lambda x: x.map(lambda y: 100*y/disc_counts[x.name]), axis=1)\n",
    "x.index = x.index.map(lambda x: \"{} ({})\".format(x, disc_counts[x]))\n",
    "x.sort_values(\"AES\", ascending=False).plot(kind=\"barh\")\n",
    "\n",
    "plt.grid(False)\n",
    "plt.grid(True, axis=\"x\", linestyle=\":\")\n",
    "sns.despine(left=True, top=True, right=True, bottom=True)"
   ]
  },
  {
   "cell_type": "code",
   "execution_count": 1,
   "metadata": {},
   "outputs": [
    {
     "ename": "NameError",
     "evalue": "name 'base' is not defined",
     "output_type": "error",
     "traceback": [
      "\u001b[0;31m---------------------------------------------------------------------------\u001b[0m",
      "\u001b[0;31mNameError\u001b[0m                                 Traceback (most recent call last)",
      "\u001b[0;32m<ipython-input-1-4de6840996f1>\u001b[0m in \u001b[0;36m<module>\u001b[0;34m()\u001b[0m\n\u001b[0;32m----> 1\u001b[0;31m \u001b[0mdisc_counts\u001b[0m \u001b[0;34m=\u001b[0m \u001b[0mbase\u001b[0m\u001b[0;34m.\u001b[0m\u001b[0mdisc\u001b[0m\u001b[0;34m.\u001b[0m\u001b[0mvalue_counts\u001b[0m\u001b[0;34m(\u001b[0m\u001b[0;34m)\u001b[0m\u001b[0;34m\u001b[0m\u001b[0m\n\u001b[0m\u001b[1;32m      2\u001b[0m \u001b[0mx\u001b[0m \u001b[0;34m=\u001b[0m \u001b[0mbase\u001b[0m\u001b[0;34m.\u001b[0m\u001b[0mgroupby\u001b[0m\u001b[0;34m(\u001b[0m\u001b[0;34m\"disc\"\u001b[0m\u001b[0;34m)\u001b[0m\u001b[0;34m[\u001b[0m\u001b[0;34m[\u001b[0m\u001b[0;34m'AES'\u001b[0m\u001b[0;34m,\u001b[0m \u001b[0;34m'AER'\u001b[0m\u001b[0;34m,\u001b[0m \u001b[0;34m'AEC'\u001b[0m\u001b[0;34m]\u001b[0m\u001b[0;34m]\u001b[0m\u001b[0;34m.\u001b[0m\u001b[0mcount\u001b[0m\u001b[0;34m(\u001b[0m\u001b[0;34m)\u001b[0m\u001b[0;34m\u001b[0m\u001b[0m\n\u001b[1;32m      3\u001b[0m \u001b[0;31m# x = x.apply(lambda x: x.map(lambda y: 100*y/disc_counts[x.name]), axis=1)\u001b[0m\u001b[0;34m\u001b[0m\u001b[0;34m\u001b[0m\u001b[0m\n\u001b[1;32m      4\u001b[0m \u001b[0mx\u001b[0m\u001b[0;34m.\u001b[0m\u001b[0mindex\u001b[0m \u001b[0;34m=\u001b[0m \u001b[0mx\u001b[0m\u001b[0;34m.\u001b[0m\u001b[0mindex\u001b[0m\u001b[0;34m.\u001b[0m\u001b[0mmap\u001b[0m\u001b[0;34m(\u001b[0m\u001b[0;32mlambda\u001b[0m \u001b[0mx\u001b[0m\u001b[0;34m:\u001b[0m \u001b[0;34m\"{} ({})\"\u001b[0m\u001b[0;34m.\u001b[0m\u001b[0mformat\u001b[0m\u001b[0;34m(\u001b[0m\u001b[0mx\u001b[0m\u001b[0;34m,\u001b[0m \u001b[0mdisc_counts\u001b[0m\u001b[0;34m[\u001b[0m\u001b[0mx\u001b[0m\u001b[0;34m]\u001b[0m\u001b[0;34m)\u001b[0m\u001b[0;34m)\u001b[0m\u001b[0;34m\u001b[0m\u001b[0m\n\u001b[1;32m      5\u001b[0m \u001b[0;34m\u001b[0m\u001b[0m\n",
      "\u001b[0;31mNameError\u001b[0m: name 'base' is not defined"
     ]
    }
   ],
   "source": [
    "disc_counts = base.disc.value_counts()\n",
    "x = base.groupby(\"disc\")[['AES', 'AER', 'AEC']].count()\n",
    "# x = x.apply(lambda x: x.map(lambda y: 100*y/disc_counts[x.name]), axis=1)\n",
    "x.index = x.index.map(lambda x: \"{} ({})\".format(x, disc_counts[x]))\n",
    "\n",
    "x['AER/AES'] = 100 * x['AER'] / x['AES']\n",
    "x['AEC/AES'] = 100 * x['AEC'] / x['AES']\n",
    "x[['AER/AES', 'AEC/AES']].sort_values('AEC/AES', ascending=False).plot(kind=\"barh\")\n",
    "\n",
    "plt.ylabel(\"\")\n",
    "ticks = list(range(0, 81, 10))\n",
    "plt.xticks(ticks, [\"{:,}%\".format(int(_)) for _ in ticks])\n",
    "\n",
    "plt.grid(False)\n",
    "plt.grid(True, axis=\"x\", linestyle=\":\")\n",
    "sns.despine(left=True, top=True, right=True, bottom=True)"
   ]
  },
  {
   "cell_type": "code",
   "execution_count": 29,
   "metadata": {},
   "outputs": [],
   "source": [
    "col = \"disc\"\n",
    "\n",
    "cov_disciplines = base.groupby(col)[metrics].apply(lambda x: x.count())\n",
    "cov_disciplines['All articles'] = base.groupby(col)[metrics].size()\n",
    "cov_disciplines = cov_disciplines.sort_values(\"All articles\", ascending=False)\n",
    "\n",
    "# Column names + order\n",
    "cov_disciplines.index.name = \"Discipline\""
   ]
  },
  {
   "cell_type": "markdown",
   "metadata": {},
   "source": [
    "##### Distribution of disciplines"
   ]
  },
  {
   "cell_type": "markdown",
   "metadata": {},
   "source": [
    "##### Detailed look at Facebook"
   ]
  },
  {
   "cell_type": "code",
   "execution_count": 145,
   "metadata": {},
   "outputs": [],
   "source": [
    "any_fb_counts = base.reindex(all_shares.union(am_shares))[col].value_counts()\n",
    "any_fb_counts.loc['Total'] = any_fb_counts.sum()"
   ]
  },
  {
   "cell_type": "code",
   "execution_count": 226,
   "metadata": {},
   "outputs": [
    {
     "name": "stderr",
     "output_type": "stream",
     "text": [
      "/home/asura/.virtualenvs/altmetrics/lib/python3.5/site-packages/ipykernel_launcher.py:3: SettingWithCopyWarning: \n",
      "A value is trying to be set on a copy of a slice from a DataFrame.\n",
      "Try using .loc[row_indexer,col_indexer] = value instead\n",
      "\n",
      "See the caveats in the documentation: http://pandas.pydata.org/pandas-docs/stable/indexing.html#indexing-view-versus-copy\n",
      "  This is separate from the ipykernel package so we can avoid doing imports until\n"
     ]
    },
    {
     "data": {
      "image/png": "[encoded data removed]",
      "text/plain": [
       "<matplotlib.figure.Figure at 0x7f0bc5d575f8>"
      ]
     },
     "metadata": {},
     "output_type": "display_data"
    }
   ],
   "source": [
    "mask = nz_resp['type'].isin([\"pmc\", \"pmid\"])\n",
    "pdf = nz_resp[~mask]\n",
    "pdf['log_shares'] = pdf['shares'].map(lambda x: np.log10(x))\n",
    "\n",
    "order = pdf.type.value_counts().keys().tolist()\n",
    "\n",
    "ax = sns.boxenplot(x=\"type\", y=\"log_shares\", data=pdf,\n",
    "                   saturation=1,\n",
    "                   order=order, palette=cm)\n",
    "\n",
    "\n",
    "medians = pdf.groupby(['type'])['log_shares'].median()\n",
    "nobs = pdf['type'].value_counts()\n",
    "nobs = nobs.map(lambda x: \"n: {}\".format(x))\n",
    "\n",
    "pos = range(len(nobs))\n",
    "for pos, label in enumerate(order):\n",
    "    plt.text(pos, medians[label]+.05, nobs[label],\n",
    "             horizontalalignment='center', color='w', weight='semibold')\n",
    "\n",
    "ticks = [1, 2, 5, 10, 50, 100, 500, 1000, 5000]\n",
    "plt.yticks(np.log10(ticks), ticks);\n",
    "\n",
    "sns.despine(left=True, right=True, top=True, bottom=True);"
   ]
  },
  {
   "cell_type": "markdown",
   "metadata": {},
   "source": [
    "# References\n",
    "\n",
    "Milojević, S. (2010). Power law distributions in information science: Making the case for logarithmic binning. Journal of the American Society for Information Science and Technology, 61(12), 2417–2425. doi: 10/bm7ck6"
   ]
  }
 ],
 "metadata": {
  "kernelspec": {
   "display_name": "altmetrics",
   "language": "python",
   "name": "altmetrics"
  },
  "language_info": {
   "codemirror_mode": {
    "name": "ipython",
    "version": 3
   },
   "file_extension": ".py",
   "mimetype": "text/x-python",
   "name": "python",
   "nbconvert_exporter": "python",
   "pygments_lexer": "ipython3",
   "version": "3.5.2"
  }
 },
 "nbformat": 4,
 "nbformat_minor": 4
}
